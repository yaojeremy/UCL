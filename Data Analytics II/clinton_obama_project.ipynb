{
 "cells": [
  {
   "cell_type": "markdown",
   "metadata": {
    "deletable": true,
    "editable": true
   },
   "source": [
    "# Clinton-Obama Case Study - \n",
    "<div class=\"alert alert-block alert-warning\">\n",
    "The following code is using the Obama.csv voting data until February 19th 2008.\n",
    "\n",
    "The following few lines re-use some lines from the starter code"
   ]
  },
  {
   "cell_type": "code",
   "execution_count": null,
   "metadata": {
    "collapsed": false,
    "deletable": true,
    "editable": true
   },
   "outputs": [],
   "source": [
    ".libPaths(\"/usr/local/lib/R/site-library\")  # only needed for our Jupyter server\n",
    "\n",
    "library(ellipse)\n",
    "library(RColorBrewer)\n",
    "library(PerformanceAnalytics)\n",
    "library(RCurl) \n",
    "library(rpart)\n",
    "library(rpart.plot)\n",
    "library(cvTools)\n",
    "library(glmnet)\n",
    "library(forecast) \n",
    "library(Metrics)\n",
    "library(corrplot)"
   ]
  },
  {
   "cell_type": "code",
   "execution_count": null,
   "metadata": {
    "collapsed": true,
    "deletable": true,
    "editable": true
   },
   "outputs": [],
   "source": [
    "# If the datafile is stored locally in the current working directory simply use this code\n",
    "elect.df  <- read.csv('Obama.csv')"
   ]
  },
  {
   "cell_type": "code",
   "execution_count": null,
   "metadata": {
    "collapsed": false,
    "deletable": true,
    "editable": true
   },
   "outputs": [],
   "source": [
    "summary(elect.df)"
   ]
  },
  {
   "cell_type": "markdown",
   "metadata": {
    "deletable": true,
    "editable": true
   },
   "source": [
    "## Inspecting the data  - \n",
    "<div class=\"alert alert-block alert-warning\">\n",
    "\n"
   ]
  },
  {
   "cell_type": "markdown",
   "metadata": {
    "collapsed": true,
    "deletable": true,
    "editable": true
   },
   "source": [
    "# Cleaning our data\n",
    "## Impute missing ethnic data as zero values"
   ]
  },
  {
   "cell_type": "code",
   "execution_count": null,
   "metadata": {
    "collapsed": true,
    "deletable": true,
    "editable": true
   },
   "outputs": [],
   "source": [
    "# First write a function that replaces all NAs in a data vector (vec) with some predefined value (replaceValue)\n",
    "# This function can be called for different data columns in a dataset to impute data.\n",
    "\n",
    "ImputeData <- function(vec, replaceValue) {\n",
    "  ifelse(is.na(vec), replaceValue, vec)\n",
    "}"
   ]
  },
  {
   "cell_type": "code",
   "execution_count": null,
   "metadata": {
    "collapsed": true,
    "deletable": true,
    "editable": true
   },
   "outputs": [],
   "source": [
    "# Now apply this to the attributes where we decide to replace NAs with zeros\n",
    "# These are: Black, Asian, AmericanIndian, FarmArea\n",
    "\n",
    "for(attribute in c(\"Black\", \"Asian\", \"AmericanIndian\", \"FarmArea\")) {\n",
    "  elect.df[, attribute] <- ImputeData(elect.df[ , attribute], 0)\n",
    "}"
   ]
  },
  {
   "cell_type": "markdown",
   "metadata": {
    "deletable": true,
    "editable": true
   },
   "source": [
    "## Impute other missing data (columns 10 to 41) by their mean values\n",
    "\n",
    "<div class=\"alert alert-block alert-warning\">\n",
    "The following code is used to replace missing values with the mean values for all the remaining attribute columns from column 10 onwards. (The attributes before this are not appropriate to be treated in this way.)"
   ]
  },
  {
   "cell_type": "code",
   "execution_count": null,
   "metadata": {
    "collapsed": true,
    "deletable": true,
    "editable": true
   },
   "outputs": [],
   "source": [
    "# Find the means for all the numeric columns. \n",
    "# The function sapply automatically runs the mean function (specified as second argument) on the columns 10 through 41. The means are then saved in the vector named train_data_mean. We use the argument na.rm=TRUE to ask the function to ignore NA entries.\n",
    "\n",
    "data.mean <- sapply(elect.df[ , 10:41], mean, na.rm=TRUE)"
   ]
  },
  {
   "cell_type": "code",
   "execution_count": null,
   "metadata": {
    "collapsed": true,
    "deletable": true,
    "editable": true
   },
   "outputs": [],
   "source": [
    "# now replace the remaining NAs with the appropriate attribute mean\n",
    "\n",
    "for(i in 10:41) {\n",
    "  elect.df[, i] <- ImputeData(elect.df[ , i], data.mean[i - 9])\n",
    "}"
   ]
  },
  {
   "cell_type": "markdown",
   "metadata": {
    "deletable": true,
    "editable": true
   },
   "source": [
    "## Deal with potentially misleading White and Hispanic ethnic data\n",
    "<div class=\"alert alert-block alert-warning\">\n"
   ]
  },
  {
   "cell_type": "code",
   "execution_count": null,
   "metadata": {
    "collapsed": true,
    "deletable": true,
    "editable": true
   },
   "outputs": [],
   "source": [
    "# create a new EthnicTotal attribute column to hold the sum of all the ethnic groupings percentages\n",
    "# the White, Black, Asian, AmericanIndian, Hawaiian and Hispanic percentages are given in columns 14 to 19\n",
    "\n",
    "elect.df$EthnicTotal <- rowSums(elect.df[,14:19],na.rm=T)"
   ]
  },
  {
   "cell_type": "code",
   "execution_count": null,
   "metadata": {
    "collapsed": true,
    "deletable": true,
    "editable": true
   },
   "outputs": [],
   "source": [
    "elect.df$White <- elect.df$White - elect.df$Hispanic/2\n",
    "elect.df$Hispanic <- elect.df$Hispanic - elect.df$Hispanic/2"
   ]
  },
  {
   "cell_type": "markdown",
   "metadata": {
    "deletable": true,
    "editable": true
   },
   "source": [
    "# Prepare training and test datasets\n",
    "\n",
    "<div class=\"alert alert-block alert-warning\">\n"
   ]
  },
  {
   "cell_type": "code",
   "execution_count": null,
   "metadata": {
    "collapsed": true,
    "deletable": true,
    "editable": true
   },
   "outputs": [],
   "source": [
    "# Before we can split the dataset on the date we need to first convert \n",
    "# the ElectionDate column to the \"Date\" data type \n",
    "elect.df$ElectionDate <- as.Date(elect.df$ElectionDate, format=\"%m/%d/%Y\")\n",
    "\n",
    "# Create two separate data sets from the data in elect.df.\n",
    "elect.df.train <- elect.df[elect.df$ElectionDate < as.Date(\"2/19/2008\", format = \"%m/%d/%Y\"), ]\n",
    "elect.df.test <- elect.df[elect.df$ElectionDate >= as.Date(\"2/19/2008\", format = \"%m/%d/%Y\"), ]"
   ]
  },
  {
   "cell_type": "code",
   "execution_count": null,
   "metadata": {
    "collapsed": true,
    "deletable": true,
    "editable": true
   },
   "outputs": [],
   "source": [
    "# If you want to write these data sets back out into spreadsheets, use the following \"write\" commands in R.\n",
    "write.csv(elect.df.train, \"electionDataTrain.csv\")\n",
    "write.csv(elect.df.test, \"electionDataTest.csv\")"
   ]
  },
  {
   "cell_type": "markdown",
   "metadata": {
    "deletable": true,
    "editable": true
   },
   "source": [
    "# Create some possible independent variables \n",
    "\n",
    "<div class=\"alert alert-block alert-warning\">\n",
    "These variables directly become a part of our data set `elect.df.train`.   \n",
    "\n",
    "THIS REPLICATES THE ObamaMarginPercent CALCULATED FIELD USED IN TABLEAU"
   ]
  },
  {
   "cell_type": "code",
   "execution_count": null,
   "metadata": {
    "collapsed": true,
    "deletable": true,
    "editable": true
   },
   "outputs": [],
   "source": [
    "elect.df.train$Obama_margin <- elect.df.train$Obama - elect.df.train$Clinton"
   ]
  },
  {
   "cell_type": "code",
   "execution_count": null,
   "metadata": {
    "collapsed": true,
    "deletable": true,
    "editable": true
   },
   "outputs": [],
   "source": [
    "elect.df.train$Obama_margin_percent <- elect.df.train$Obama_margin / elect.df.train$TotalVote"
   ]
  },
  {
   "cell_type": "code",
   "execution_count": null,
   "metadata": {
    "collapsed": true,
    "deletable": true,
    "editable": true
   },
   "outputs": [],
   "source": [
    "elect.df.train$Obama_wins <- ifelse(elect.df.train$Obama_margin > 0, 1, 0)"
   ]
  },
  {
   "cell_type": "markdown",
   "metadata": {
    "deletable": true,
    "editable": true
   },
   "source": [
    "## R-based analysis and visualisations  \n",
    "\n",
    "<div class=\"alert alert-block alert-warning\">\n",
    "Based on findings of the prediction models"
   ]
  },
  {
   "cell_type": "code",
   "execution_count": null,
   "metadata": {
    "collapsed": false,
    "deletable": true,
    "editable": true
   },
   "outputs": [],
   "source": [
    "filtered_Obama_wins <- elect.df.train[elect.df.train$Obama_wins]\n",
    "summary(filtered_Obama_wins) "
   ]
  },
  {
   "cell_type": "code",
   "execution_count": null,
   "metadata": {
    "collapsed": false,
    "deletable": true,
    "editable": true
   },
   "outputs": [],
   "source": [
    "filtered_south <- elect.df.train[elect.df.train$Region == 'South',]\n",
    "summary(filtered_south$Obama_margin_percent)"
   ]
  },
  {
   "cell_type": "code",
   "execution_count": null,
   "metadata": {
    "collapsed": false,
    "deletable": true,
    "editable": true
   },
   "outputs": [],
   "source": [
    "filtered_west <- elect.df.train[elect.df.train$Region == 'West',]\n",
    "summary(filtered_west$Obama_margin_percent)"
   ]
  },
  {
   "cell_type": "code",
   "execution_count": null,
   "metadata": {
    "collapsed": false,
    "deletable": true,
    "editable": true
   },
   "outputs": [],
   "source": [
    "filtered_n_east <- elect.df.train[elect.df.train$Region == 'Northeast',]\n",
    "summary(filtered_n_east$Obama_margin_percent)"
   ]
  },
  {
   "cell_type": "code",
   "execution_count": null,
   "metadata": {
    "collapsed": false,
    "deletable": true,
    "editable": true
   },
   "outputs": [],
   "source": [
    "filtered_midwest <- elect.df.train[elect.df.train$Region == 'Midwest',]\n",
    "summary(filtered_midwest$Obama_margin_percent)"
   ]
  },
  {
   "cell_type": "code",
   "execution_count": null,
   "metadata": {
    "collapsed": false,
    "deletable": true,
    "editable": true
   },
   "outputs": [],
   "source": [
    "filtered_Missouri <- elect.df.train[elect.df.train$State == 'MO',]\n",
    "summary(filtered_Missouri$Obama_margin_percent)"
   ]
  },
  {
   "cell_type": "code",
   "execution_count": null,
   "metadata": {
    "collapsed": false,
    "deletable": true,
    "editable": true
   },
   "outputs": [],
   "source": [
    "filtered_Illinois <- elect.df.train[elect.df.train$State == 'IL',]\n",
    "summary(filtered_Illinois$Obama_margin_percent)"
   ]
  },
  {
   "cell_type": "code",
   "execution_count": null,
   "metadata": {
    "collapsed": false,
    "deletable": true,
    "editable": true
   },
   "outputs": [],
   "source": [
    "filtered_Minnesota <- elect.df.train[elect.df.train$State == 'MN',]\n",
    "summary(filtered_Minnesota$Obama_margin_percent)"
   ]
  },
  {
   "cell_type": "code",
   "execution_count": null,
   "metadata": {
    "collapsed": false,
    "deletable": true,
    "editable": true
   },
   "outputs": [],
   "source": [
    "filtered_Iowa <- elect.df.train[elect.df.train$State == 'IA',]\n",
    "summary(filtered_Iowa$Obama_margin_percent)"
   ]
  },
  {
   "cell_type": "code",
   "execution_count": null,
   "metadata": {
    "collapsed": false,
    "deletable": true,
    "editable": true
   },
   "outputs": [],
   "source": [
    "filtered_Nebraska <- elect.df.train[elect.df.train$State == 'NE',]\n",
    "summary(filtered_Nebraska$Obama_margin_percent)"
   ]
  },
  {
   "cell_type": "code",
   "execution_count": null,
   "metadata": {
    "collapsed": false,
    "deletable": true,
    "editable": true
   },
   "outputs": [],
   "source": [
    "# Ggplot2 library\n",
    "library(ggplot2)\n",
    " \n",
    "\n",
    " \n",
    "#Graph\n",
    "qplot( x=Region , y= Obama_margin_percent , data= elect.df.train , geom=c(\"boxplot\",\"jitter\") , fill=Region)"
   ]
  },
  {
   "cell_type": "code",
   "execution_count": null,
   "metadata": {
    "collapsed": false,
    "deletable": true,
    "editable": true
   },
   "outputs": [],
   "source": [
    "qplot( x=State , y= Obama_margin_percent , data= filtered_midwest , geom=c(\"boxplot\",\"jitter\") , fill=State)"
   ]
  },
  {
   "cell_type": "markdown",
   "metadata": {
    "deletable": true,
    "editable": true
   },
   "source": [
    "## A best practice in supervised learning is to further split up the training set into a smaller training set and a validation set. \n",
    "\n",
    "<div class=\"alert alert-block alert-warning\">\n",
    "You can compare the performance of candidate models (each trained on the smaller training set) on the validation set. The following code randomly splits your training set into a smaller training set (75% of the training data) and a validation set (25% of the training data)."
   ]
  },
  {
   "cell_type": "code",
   "execution_count": null,
   "metadata": {
    "collapsed": true,
    "deletable": true,
    "editable": true
   },
   "outputs": [],
   "source": [
    "# Find the number of rows in the training set and Compute the number of rows in the smaller training set.\n",
    "nTrain <- nrow(elect.df.train)\n",
    "nSmallTrain <- round(nTrain*0.75)\n",
    "\n",
    "# Set the seed for a random sample of the row indices in the smaller training set.\n",
    "set.seed(201)\n",
    "# Sample the row indices in the smaller training set\n",
    "rowIndicesSmallerTrain <- sample(1:nTrain, size = nSmallTrain, replace = FALSE)\n",
    "\n",
    "# Split the training set into the smaller training set and the validation set using these indices. \n",
    "elect.df.smaller.train <- elect.df.train[rowIndicesSmallerTrain, ]\n",
    "elect.df.validation <- elect.df.train[-rowIndicesSmallerTrain, ]"
   ]
  },
  {
   "cell_type": "markdown",
   "metadata": {
    "deletable": true,
    "editable": true
   },
   "source": [
    "# Linear Regression prediction model\n",
    "\n",
    "<div class=\"alert alert-block alert-warning\">\n",
    "We here use the `lm` function to build a simple **linear regression** model predicting `Obama_margin_percent` using 7 arbitrarily selected attributes."
   ]
  },
  {
   "cell_type": "code",
   "execution_count": null,
   "metadata": {
    "collapsed": false,
    "deletable": true,
    "editable": true
   },
   "outputs": [],
   "source": [
    "# here we use all the above attributes and Region\n",
    "lmAll <- lm(Obama_margin_percent ~ Region+MalesPer100Females+AgeBelow35+Age35to65+Age65andAbove+\n",
    "              White+Black+Asian+AmericanIndian+Hawaiian+Hispanic+HighSchool+Bachelors+Poverty+IncomeAbove75K+\n",
    "              MedianIncome+AverageIncome+UnemployRate+ManfEmploy+SpeakingNonEnglish+Medicare+MedicareRate+\n",
    "              SocialSecurity+SocialSecurityRate+RetiredWorkers+Disabilities+DisabilitiesRate+Homeowner+\n",
    "              SameHouse1995and2000+Pop+PopDensity+LandArea+FarmArea, \n",
    "            data = elect.df.train)\n"
   ]
  },
  {
   "cell_type": "code",
   "execution_count": null,
   "metadata": {
    "collapsed": false,
    "deletable": true,
    "editable": true
   },
   "outputs": [],
   "source": [
    "#euristically changing the attributes\n",
    "lm2 <- lm(Obama_margin_percent ~ Region+Black+HighSchool+Bachelors+Poverty+IncomeAbove75K+\n",
    "              MedianIncome+UnemployRate+MedicareRate+ Hawaiian + \n",
    "              SocialSecurityRate+DisabilitiesRate+Homeowner+\n",
    "              SameHouse1995and2000+PopDensity+LandArea+FarmArea, \n",
    "            data = elect.df.train)\n"
   ]
  },
  {
   "cell_type": "code",
   "execution_count": null,
   "metadata": {
    "collapsed": false,
    "deletable": true,
    "editable": true
   },
   "outputs": [],
   "source": [
    "#euristically changing the attributes\n",
    "lm3 <- lm(Obama_margin_percent ~ Region+Black+HighSchool+Bachelors+Poverty+IncomeAbove75K+\n",
    "              MedianIncome+UnemployRate+MedicareRate+ Hawaiian + AgeBelow35 + \n",
    "              SocialSecurityRate+DisabilitiesRate+Homeowner+\n",
    "              SameHouse1995and2000+PopDensity+LandArea+FarmArea, \n",
    "            data = elect.df.train)\n"
   ]
  },
  {
   "cell_type": "code",
   "execution_count": null,
   "metadata": {
    "collapsed": false,
    "deletable": true,
    "editable": true
   },
   "outputs": [],
   "source": [
    "#Here is just some 7 random attributes\n",
    "lm7 <- lm(Obama_margin_percent ~ Region + Black + HighSchool + Poverty + PopDensity + SpeakingNonEnglish + LandArea, \n",
    "         data = elect.df.smaller.train)\n"
   ]
  },
  {
   "cell_type": "code",
   "execution_count": null,
   "metadata": {
    "collapsed": false
   },
   "outputs": [],
   "source": [
    "# here is where I did trials and errors, to get this final lm best\n",
    "lm_best <- lm(Obama_margin_percent ~ Region+Age65andAbove+\n",
    "              Black+Asian+AmericanIndian+Hawaiian+Bachelors+Poverty+IncomeAbove75K+\n",
    "              MedianIncome+UnemployRate+ManfEmploy+MedicareRate+Hispanic+\n",
    "              SocialSecurity+SocialSecurityRate+RetiredWorkers+DisabilitiesRate+\n",
    "              SameHouse1995and2000+PopDensity+LandArea+FarmArea, \n",
    "            data = elect.df.train)\n",
    "lm_best_withH <- lm(Obama_margin_percent ~ Region+Age65andAbove+ Homeowner+\n",
    "              Black+Asian+AmericanIndian+Hawaiian+Bachelors+Poverty+IncomeAbove75K+\n",
    "              MedianIncome+UnemployRate+ManfEmploy+MedicareRate+Hispanic+\n",
    "              SocialSecurity+SocialSecurityRate+RetiredWorkers+DisabilitiesRate+\n",
    "              SameHouse1995and2000+PopDensity+LandArea+FarmArea, \n",
    "            data = elect.df.train)\n",
    "#Here I gradually took of some attributes according to: if they were important in the decision tree, if they were kept in the backward or forward stepwise model selection. then I did trial and errors. \n",
    "\n",
    "#Black + HighSchool + Region + Poverty + RetiredWorkers + Bachelors + IncomeAbove75K + DisabilitiesRate + \n",
    "   # Homeowner + Disabilities + AgeBelow35 + SameHouse1995and2000 + \n",
    "    #Asian + AmericanIndian + Hawaiian + FarmArea + LandArea + \n",
    "    #PopDensity + SocialSecurity\n",
    "\n",
    "#Region + Age65andAbove + \n",
    " #   White + Black + AmericanIndian + Hispanic + Bachelors + Poverty + \n",
    "  #  IncomeAbove75K + MedianIncome + UnemployRate + ManfEmploy + \n",
    "   # MedicareRate + SocialSecurity + SocialSecurityRate + Disabilities + \n",
    "    #DisabilitiesRate + Homeowner + SameHouse1995and2000 + PopDensity + \n",
    "    #LandArea + FarmArea\n"
   ]
  },
  {
   "cell_type": "markdown",
   "metadata": {
    "deletable": true,
    "editable": true
   },
   "source": [
    "# Predict and Test Accuracy: for our  linear models \n",
    "\n",
    "<div class=\"alert alert-block alert-warning\">\n",
    "First define the following custom-defined **`accuracy`** function, which simply calls the **`mae`** and **`rmse`** functions from the **Metrics** package."
   ]
  },
  {
   "cell_type": "code",
   "execution_count": null,
   "metadata": {
    "collapsed": true,
    "deletable": true,
    "editable": true
   },
   "outputs": [],
   "source": [
    "accuracy <- function(prediction, actual) \n",
    "    cat('MAE =', mae(actual,prediction), ' RMSE =', rmse(actual,prediction),\"\\n\")"
   ]
  },
  {
   "cell_type": "code",
   "execution_count": null,
   "metadata": {
    "collapsed": false,
    "deletable": true,
    "editable": true
   },
   "outputs": [],
   "source": [
    "lm2.pred <- predict(lm2, elect.df.validation)\n",
    "lm3.pred <- predict(lm3, elect.df.validation)\n",
    "lm7.pred <- predict(lm7, elect.df.validation)\n",
    "lmAll.pred <- predict(lmAll, elect.df.validation)\n",
    "lm_best.pred <- predict(lm_best, elect.df.validation)\n",
    "lm_best_withH.pred <- predict(lm_best_withH, elect.df.validation)"
   ]
  },
  {
   "cell_type": "code",
   "execution_count": null,
   "metadata": {
    "collapsed": false,
    "deletable": true,
    "editable": true
   },
   "outputs": [],
   "source": [
    "cat('lm2:   ')\n",
    "accuracy(lm2.pred, elect.df.validation$Obama_margin_percent)\n",
    "cat('lm3:   ')\n",
    "accuracy(lm3.pred, elect.df.validation$Obama_margin_percent)\n",
    "cat('lm7:   ')\n",
    "accuracy(lm7.pred, elect.df.validation$Obama_margin_percent)\n",
    "cat('lmALL:   ')\n",
    "accuracy(lmAll.pred, elect.df.validation$Obama_margin_percent)\n",
    "cat('lm_best:   ')\n",
    "accuracy(lm_best.pred, elect.df.validation$Obama_margin_percent)\n",
    "cat('lm_best with Homeowner:   ')\n",
    "accuracy(lm_best_withH.pred, elect.df.validation$Obama_margin_percent)"
   ]
  },
  {
   "cell_type": "markdown",
   "metadata": {
    "deletable": true,
    "editable": true
   },
   "source": [
    "## Methods for selecting subsets of predictors: Stepwise Model Selection\n",
    "\n",
    "<div class=\"alert alert-block alert-warning\">\n",
    "The **`step`** function in R automatically removes insignificant variables from a regression.   \n",
    "\n",
    "The argument **`direction = backwards`** tells the function to remove one variable at a time to find best fitting model based on the **AIC** score.   \n",
    "\n",
    "For more information on this procedure, see **Introduction to Statistical Learning (ISL) pp. 203-210** (http://www-bcf.usc.edu/~gareth/ISL/)."
   ]
  },
  {
   "cell_type": "code",
   "execution_count": null,
   "metadata": {
    "collapsed": false,
    "deletable": true,
    "editable": true
   },
   "outputs": [],
   "source": [
    "lm.step <- step(lmAll, direction = \"backward\")"
   ]
  },
  {
   "cell_type": "code",
   "execution_count": null,
   "metadata": {
    "collapsed": false,
    "deletable": true,
    "editable": true
   },
   "outputs": [],
   "source": [
    "summary(lm.step)  # Which variables did it drop?"
   ]
  },
  {
   "cell_type": "code",
   "execution_count": null,
   "metadata": {
    "collapsed": false,
    "deletable": true,
    "editable": true
   },
   "outputs": [],
   "source": [
    "#doing it forward\n",
    "lm.min <- lm(Obama_margin_percent ~ 1, \n",
    "         data = elect.df.smaller.train)\n",
    "\n",
    "lm.step.forward <- step(lm.min, \n",
    "                        direction='forward', \n",
    "                        scope=Obama_margin_percent ~ Region+Age65andAbove+\n",
    "              Black+Asian+AmericanIndian+Hawaiian+Bachelors+HighSchool+Poverty+IncomeAbove75K+\n",
    "              MedianIncome+UnemployRate+ManfEmploy+MedicareRate+Hispanic+\n",
    "              SocialSecurity+SocialSecurityRate+RetiredWorkers+DisabilitiesRate+\n",
    "              SameHouse1995and2000+PopDensity+LandArea+FarmArea)"
   ]
  },
  {
   "cell_type": "code",
   "execution_count": null,
   "metadata": {
    "collapsed": false,
    "deletable": true,
    "editable": true
   },
   "outputs": [],
   "source": [
    "summary(lm.step.forward)  # Which variables did it drop?"
   ]
  },
  {
   "cell_type": "markdown",
   "metadata": {
    "deletable": true,
    "editable": true
   },
   "source": [
    "### Using these two linear regression models to make forecasts in the validation set."
   ]
  },
  {
   "cell_type": "code",
   "execution_count": null,
   "metadata": {
    "collapsed": false,
    "deletable": true,
    "editable": true
   },
   "outputs": [],
   "source": [
    "lmAll.pred <- predict(lmAll, elect.df.validation)\n",
    "lm_best.pred <- predict(lm_best, elect.df.validation)\n",
    "lm.step.pred <- predict(lm.step, elect.df.validation)\n",
    "lm.step.forward.pred <- predict(lm.step.forward, elect.df.validation)\n",
    "lm_best_withH.pred <- predict(lm_best_withH, elect.df.validation)"
   ]
  },
  {
   "cell_type": "code",
   "execution_count": null,
   "metadata": {
    "collapsed": false,
    "deletable": true,
    "editable": true
   },
   "outputs": [],
   "source": [
    "cat('lm step backwards: ')\n",
    "accuracy(lm.step.pred, elect.df.validation$Obama_margin_percent)\n",
    "cat('lm step forwards:  ')\n",
    "accuracy(lm.step.forward.pred, elect.df.validation$Obama_margin_percent)\n",
    "cat('lmAll:             ')\n",
    "accuracy(lmAll.pred, elect.df.validation$Obama_margin_percent)\n",
    "cat('lm best:             ')\n",
    "accuracy(lm_best.pred, elect.df.validation$Obama_margin_percent)\n",
    "cat('lm_best with Homeowner:   ')\n",
    "accuracy(lm_best_withH.pred, elect.df.validation$Obama_margin_percent)"
   ]
  },
  {
   "cell_type": "code",
   "execution_count": null,
   "metadata": {
    "collapsed": false,
    "deletable": true,
    "editable": true
   },
   "outputs": [],
   "source": [
    "summary(elect.df.validation$Obama_margin_percent)"
   ]
  },
  {
   "cell_type": "markdown",
   "metadata": {
    "collapsed": true,
    "deletable": true,
    "editable": true
   },
   "source": [
    "---\n",
    "\n",
    "# Fit some regression trees using the rpart function\n",
    "\n",
    "<div class=\"alert alert-block alert-warning\">\n",
    "Read ISL pp. 303-311.   \n",
    "\n",
    "A **regression tree** is a way to fit a non-linear model to your data. It recursively subdivides your data into rectangular partitions and takes the average of the y-values in each partition as its prediction.   \n",
    "\n",
    "Pay particular attention to Figure 8.3 p308 in *Introduction to Statistical Learning* (ISL) (http://www-bcf.usc.edu/~gareth/ISL/)."
   ]
  },
  {
   "cell_type": "code",
   "execution_count": null,
   "metadata": {
    "collapsed": false,
    "deletable": true,
    "editable": true
   },
   "outputs": [],
   "source": [
    "rt <- rpart(Obama_margin_percent ~ Black + HighSchool + Region + \n",
    "    Poverty + RetiredWorkers + Bachelors + IncomeAbove75K + DisabilitiesRate + \n",
    "    Homeowner + Disabilities + AgeBelow35 + SameHouse1995and2000 + \n",
    "    Asian + AmericanIndian + Hawaiian + FarmArea + LandArea + \n",
    "    PopDensity + SocialSecurity, \n",
    "            data = elect.df.smaller.train)  # Fits a regression tree.\n",
    "\n",
    "#prp(rt, type = 1, extra = 1)  # Use prp from the rpart.plot package to plot the tree."
   ]
  },
  {
   "cell_type": "code",
   "execution_count": null,
   "metadata": {
    "collapsed": false,
    "deletable": true,
    "editable": true
   },
   "outputs": [],
   "source": [
    "rt.tuned <- rpart(Obama_margin_percent ~ Black + HighSchool + Region + \n",
    "    Poverty + RetiredWorkers + Bachelors + IncomeAbove75K + DisabilitiesRate + \n",
    "    Homeowner + Disabilities + AgeBelow35 + SameHouse1995and2000 + \n",
    "    Asian + AmericanIndian + Hawaiian + FarmArea + LandArea + \n",
    "    PopDensity + SocialSecurity, \n",
    "                  data = elect.df.smaller.train, \n",
    "                  control = rpart.control(cp = 0.005))\n",
    "#prp(rt.tuned, type = 1, extra = 1)\n",
    "\n"
   ]
  },
  {
   "cell_type": "code",
   "execution_count": null,
   "metadata": {
    "collapsed": false,
    "deletable": true,
    "editable": true
   },
   "outputs": [],
   "source": [
    "#this rpart has the best attributes from lm best\n",
    "rt2 <- rpart(Obama_margin_percent ~ Region+Age65andAbove+\n",
    "              Black+Asian+AmericanIndian+Hawaiian+Bachelors+HighSchool+Poverty+IncomeAbove75K+\n",
    "              MedianIncome+UnemployRate+ManfEmploy+MedicareRate+Hispanic+\n",
    "              SocialSecurity+SocialSecurityRate+RetiredWorkers+DisabilitiesRate+\n",
    "              SameHouse1995and2000+PopDensity+LandArea+FarmArea, \n",
    "                  data = elect.df.smaller.train, )\n",
    "#prp(rt.tuned2, type = 1, extra = 1)"
   ]
  },
  {
   "cell_type": "code",
   "execution_count": null,
   "metadata": {
    "collapsed": true
   },
   "outputs": [],
   "source": [
    "#this rpart has the best attributes from lm best\n",
    "rt.tuned2 <- rpart(Obama_margin_percent ~ Region+Age65andAbove+\n",
    "              Black+Asian+AmericanIndian+Hawaiian+Bachelors+HighSchool+Poverty+IncomeAbove75K+\n",
    "              MedianIncome+UnemployRate+ManfEmploy+MedicareRate+Hispanic+\n",
    "              SocialSecurity+SocialSecurityRate+RetiredWorkers+DisabilitiesRate+\n",
    "              SameHouse1995and2000+PopDensity+LandArea+FarmArea, \n",
    "                  data = elect.df.smaller.train, \n",
    "                  control = rpart.control(cp = 0.005))"
   ]
  },
  {
   "cell_type": "code",
   "execution_count": null,
   "metadata": {
    "collapsed": false
   },
   "outputs": [],
   "source": [
    "#variation of cp\n",
    "rt.tuned3 <- rpart(Obama_margin_percent ~ Region+Age65andAbove+\n",
    "              Black+Asian+AmericanIndian+Hawaiian+Bachelors+HighSchool+Poverty+IncomeAbove75K+\n",
    "              MedianIncome+UnemployRate+ManfEmploy+MedicareRate+Hispanic+\n",
    "              SocialSecurity+SocialSecurityRate+RetiredWorkers+DisabilitiesRate+\n",
    "              SameHouse1995and2000+PopDensity+LandArea+FarmArea, \n",
    "                  data = elect.df.smaller.train, \n",
    "                  control = rpart.control(cp = 0.002))\n"
   ]
  },
  {
   "cell_type": "code",
   "execution_count": null,
   "metadata": {
    "collapsed": false
   },
   "outputs": [],
   "source": [
    "#variation of cp\n",
    "rt.tuned4 <- rpart(Obama_margin_percent ~ Region+Age65andAbove+\n",
    "              Black+Asian+AmericanIndian+Hawaiian+Bachelors+HighSchool+Poverty+IncomeAbove75K+\n",
    "              MedianIncome+UnemployRate+ManfEmploy+MedicareRate+Hispanic+\n",
    "              SocialSecurity+SocialSecurityRate+RetiredWorkers+DisabilitiesRate+\n",
    "              SameHouse1995and2000+PopDensity+LandArea+FarmArea, \n",
    "                  data = elect.df.smaller.train, \n",
    "                  control = rpart.control(cp = 0.001))\n"
   ]
  },
  {
   "cell_type": "code",
   "execution_count": null,
   "metadata": {
    "collapsed": false,
    "deletable": true,
    "editable": true
   },
   "outputs": [],
   "source": [
    "rt.pred <- predict(rt, elect.df.validation)\n",
    "rt2.pred <- predict(rt2, elect.df.validation)\n",
    "rt.tuned.pred <- predict(rt.tuned, elect.df.validation)\n",
    "rt.tuned2.pred <- predict(rt.tuned2, elect.df.validation)\n",
    "rt.tuned3.pred <- predict(rt.tuned3, elect.df.validation)\n",
    "rt.tuned4.pred <- predict(rt.tuned4, elect.df.validation)"
   ]
  },
  {
   "cell_type": "code",
   "execution_count": null,
   "metadata": {
    "collapsed": false,
    "deletable": true,
    "editable": true,
    "scrolled": true
   },
   "outputs": [],
   "source": [
    "cat('lmAll:             ')\n",
    "accuracy(lmAll.pred, elect.df.validation$Obama_margin_percent)\n",
    "cat('lm step backwards: ')\n",
    "accuracy(lm.step.pred, elect.df.validation$Obama_margin_percent)\n",
    "cat('lm best: ')\n",
    "accuracy(lm_best.pred, elect.df.validation$Obama_margin_percent)\n",
    "cat('rpart - untuned:   ')\n",
    "accuracy(rt.pred, elect.df.validation$Obama_margin_percent)\n",
    "cat('rpart2 - untuned:   ')\n",
    "accuracy(rt2.pred, elect.df.validation$Obama_margin_percent)\n",
    "cat('rpart - tuned:     ')\n",
    "accuracy(rt.tuned.pred, elect.df.validation$Obama_margin_percent)\n",
    "cat('rpart - tuned 2:     ')\n",
    "accuracy(rt.tuned2.pred, elect.df.validation$Obama_margin_percent)\n",
    "cat('rpart - tuned 3:     ')\n",
    "accuracy(rt.tuned3.pred, elect.df.validation$Obama_margin_percent)\n",
    "cat('rpart - tuned 4:     ')\n",
    "accuracy(rt.tuned4.pred, elect.df.validation$Obama_margin_percent)"
   ]
  },
  {
   "cell_type": "code",
   "execution_count": null,
   "metadata": {
    "collapsed": false,
    "deletable": true,
    "editable": true
   },
   "outputs": [],
   "source": [
    "# HERE IS XVAL OPTIMISATION APPROACH USED IN DATA ANALYTICS I\n",
    "rt.tuned2 <- rpart(Obama_margin_percent ~ Region + Black + HighSchool + Poverty + PopDensity + \n",
    "                   SpeakingNonEnglish + LandArea, \n",
    "                   data = elect.df.smaller.train, \n",
    "                   control = rpart.control(cp = 0.003))\n",
    "# printcp(rt.tuned2)\n",
    "plotcp(rt.tuned2,upper = \"splits\")"
   ]
  },
  {
   "cell_type": "code",
   "execution_count": null,
   "metadata": {
    "collapsed": false,
    "deletable": true,
    "editable": true
   },
   "outputs": [],
   "source": [
    "cor(elect.df.smaller.train$Medicare,elect.df.smaller.train$Disabilities)"
   ]
  },
  {
   "cell_type": "code",
   "execution_count": null,
   "metadata": {
    "collapsed": false,
    "deletable": true,
    "editable": true
   },
   "outputs": [],
   "source": [
    "cor(elect.df.smaller.train$Black,elect.df.smaller.train$White)"
   ]
  },
  {
   "cell_type": "code",
   "execution_count": null,
   "metadata": {
    "collapsed": false,
    "deletable": true,
    "editable": true
   },
   "outputs": [],
   "source": [
    "cor(elect.df.smaller.train$Age65andAbove,elect.df.smaller.train$MedicareRate)"
   ]
  },
  {
   "cell_type": "code",
   "execution_count": null,
   "metadata": {
    "collapsed": false,
    "deletable": true,
    "editable": true
   },
   "outputs": [],
   "source": [
    "cor(elect.df.smaller.train$Age65andAbove,elect.df.smaller.train$SocialSecurityRate)"
   ]
  },
  {
   "cell_type": "code",
   "execution_count": null,
   "metadata": {
    "collapsed": false,
    "deletable": true,
    "editable": true
   },
   "outputs": [],
   "source": [
    "cor(elect.df.smaller.train$MedicareRate,elect.df.smaller.train$SocialSecurityRate)"
   ]
  },
  {
   "cell_type": "code",
   "execution_count": null,
   "metadata": {
    "collapsed": false,
    "deletable": true,
    "editable": true
   },
   "outputs": [],
   "source": [
    "cor(elect.df.smaller.train$IncomeAbove75K,elect.df.smaller.train$MedianIncome)"
   ]
  },
  {
   "cell_type": "code",
   "execution_count": null,
   "metadata": {
    "collapsed": false,
    "deletable": true,
    "editable": true
   },
   "outputs": [],
   "source": [
    "cor(elect.df.smaller.train$IncomeAbove75K,elect.df.smaller.train$AverageIncome)"
   ]
  },
  {
   "cell_type": "code",
   "execution_count": null,
   "metadata": {
    "collapsed": false,
    "deletable": true,
    "editable": true
   },
   "outputs": [],
   "source": [
    "cor(elect.df.smaller.train$Hispanic,elect.df.smaller.train$SpeakingNonEnglish)"
   ]
  },
  {
   "cell_type": "code",
   "execution_count": null,
   "metadata": {
    "collapsed": false
   },
   "outputs": [],
   "source": [
    "cor(elect.df.smaller.train$Pop,elect.df.smaller.train$PopDensity)"
   ]
  },
  {
   "cell_type": "code",
   "execution_count": null,
   "metadata": {
    "collapsed": false
   },
   "outputs": [],
   "source": [
    "cor(elect.df.smaller.train$HighSchool,elect.df.smaller.train$Bachelor)"
   ]
  },
  {
   "cell_type": "code",
   "execution_count": null,
   "metadata": {
    "collapsed": false,
    "deletable": true,
    "editable": true
   },
   "outputs": [],
   "source": [
    "corrplot(cor_matrix)"
   ]
  },
  {
   "cell_type": "code",
   "execution_count": null,
   "metadata": {
    "collapsed": false,
    "deletable": true,
    "editable": true
   },
   "outputs": [],
   "source": [
    "cor_matrix <- as.data.frame(cor(elect.df.smaller.train[,10:41])) # To find all pairwise correlations.\n",
    "cor_matrix  "
   ]
  },
  {
   "cell_type": "code",
   "execution_count": null,
   "metadata": {
    "collapsed": true,
    "deletable": true,
    "editable": true
   },
   "outputs": [],
   "source": []
  }
 ],
 "metadata": {
  "kernelspec": {
   "display_name": "R",
   "language": "R",
   "name": "ir"
  },
  "language_info": {
   "codemirror_mode": "r",
   "file_extension": ".r",
   "mimetype": "text/x-r-source",
   "name": "R",
   "pygments_lexer": "r",
   "version": "3.3.3"
  }
 },
 "nbformat": 4,
 "nbformat_minor": 2
}
